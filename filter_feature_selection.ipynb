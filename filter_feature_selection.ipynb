{
 "cells": [
  {
   "cell_type": "code",
   "execution_count": 1,
   "metadata": {
    "collapsed": false
   },
   "outputs": [
    {
     "name": "stdout",
     "output_type": "stream",
     "text": [
      "Populating the interactive namespace from numpy and matplotlib\n"
     ]
    }
   ],
   "source": [
    "import pandas as pd\n",
    "import numpy as np\n",
    "import pylab as pl\n",
    "import sklearn.utils as util\n",
    "\n",
    "from sklearn import ensemble\n",
    "from sklearn.metrics import mean_squared_error\n",
    "\n",
    "%pylab inline"
   ]
  },
  {
   "cell_type": "markdown",
   "metadata": {},
   "source": [
    "# Decision tree"
   ]
  },
  {
   "cell_type": "code",
   "execution_count": 2,
   "metadata": {
    "collapsed": false
   },
   "outputs": [],
   "source": [
    "# Calculate impurity in node\n",
    "def node_impurity(y):\n",
    "    \n",
    "    mean = np.mean(y)\n",
    "    delta = np.subtract(y, mean)\n",
    "    return np.dot(delta, delta)\n",
    "\n",
    "# Calculate normalized impurity in node\n",
    "def node_impurity_norm(y):\n",
    "\n",
    "    return node_impurity(y) / float(len(y))\n",
    "\n",
    "# Find impurity after splitting\n",
    "def impurity_after_split(y, i):\n",
    "\n",
    "    l_samples = y[:i]\n",
    "    r_samples = y[i:]\n",
    "    N_l = i\n",
    "    N_r = len(y) - i\n",
    "    \n",
    "    return N_l * node_impurity_norm(l_samples) + N_r * node_impurity_norm(r_samples)\n",
    "\n",
    "# Find best split for node\n",
    "def find_split(node):\n",
    "    \n",
    "    new_impurity = +inf\n",
    "    min_impurity = +inf\n",
    "    feature = None\n",
    "    threshold = None\n",
    "    l_rows = None\n",
    "    r_rows = None\n",
    "    \n",
    "    for j in xrange(node.X.shape[1]):\n",
    "        x_column = node.X[:, j]\n",
    "        rows = np.argsort(x_column)\n",
    "        x_sorted = x_column[rows]\n",
    "        y_sorted = node.Y[rows]\n",
    "        \n",
    "        for i in xrange(1, len(x_sorted)):   \n",
    "            \n",
    "            if x_sorted[i] == x_sorted[i - 1]:\n",
    "                continue\n",
    "                \n",
    "            new_impurity = impurity_after_split(y_sorted, i)\n",
    "            \n",
    "            if new_impurity < min_impurity:\n",
    "                min_impurity = new_impurity\n",
    "                feature = j\n",
    "                threshold = (x_sorted[i] + x_sorted[i - 1]) / 2.0\n",
    "                l_rows = rows[:i]\n",
    "                r_rows = rows[i:]\n",
    "\n",
    "    return feature, threshold, l_rows, r_rows\n",
    "    \n",
    "# Define a tree node\n",
    "class CNode:\n",
    "    \n",
    "    def __init__(self, X, Y, feature=None, threshold=None, depth=0, parent=None):\n",
    "        \n",
    "        self.X = X\n",
    "        self.Y = Y\n",
    "        self.feature = feature\n",
    "        self.threshold = threshold\n",
    "        self.depth = depth\n",
    "        self.parent = parent\n",
    "        \n",
    "        self.impurity = node_impurity_norm(Y)\n",
    "        self.reduction = None\n",
    "        self.mean = None\n",
    "        \n",
    "    def split(self):\n",
    "\n",
    "        feature, threshold, l_rows, r_rows = find_split(self)\n",
    "        \n",
    "        if feature is not None:\n",
    "            self.feature = feature\n",
    "            self.threshold = threshold\n",
    "            self.reduction = node_impurity(self.Y) - node_impurity(self.Y[l_rows]) - node_impurity(self.Y[r_rows])\n",
    "            left_node = CNode(self.X[l_rows], self.Y[l_rows], depth=self.depth + 1)\n",
    "            right_node = CNode(self.X[r_rows], self.Y[r_rows], depth=self.depth + 1)\n",
    "            \n",
    "        else:\n",
    "            left_node = None\n",
    "            right_node = None\n",
    "        \n",
    "        return left_node, right_node\n",
    "        \n",
    "# Define a decision tree\n",
    "class CTree:\n",
    "    \n",
    "    def __init__(self, max_depth=3, min_samples_split=2):\n",
    "        \n",
    "        self.nodes = []\n",
    "        self.max_depth = max_depth\n",
    "        self.min_samples_split = min_samples_split\n",
    "        \n",
    "    def fit(self, X, Y):\n",
    "        \n",
    "        self.nodes = np.array([CNode(X, Y)])\n",
    "        self.feature_importances = np.zeros(X.shape[1])\n",
    "        todo = np.array([0])\n",
    "        \n",
    "        while todo.size > 0:\n",
    "            index = todo[0]\n",
    "            todo = todo[1:]\n",
    "            \n",
    "            if self.nodes[index].depth < self.max_depth and len(self.nodes[index].X) > self.min_samples_split:\n",
    "                \n",
    "                left, right = self.nodes[index].split()\n",
    "\n",
    "                if left is not None:\n",
    "                    N = len(self.nodes)\n",
    "                    self.nodes[index].left = N\n",
    "                    self.nodes[index].right = N + 1\n",
    "                    left.parent = index\n",
    "                    right.parent = index\n",
    "                    self.nodes = np.append(self.nodes, [left, right])\n",
    "                    feature = self.nodes[index].feature\n",
    "                    self.feature_importances[feature] += self.nodes[index].reduction\n",
    "                    todo = np.append(todo, [N, N + 1])\n",
    "                    continue\n",
    "                    \n",
    "            self.nodes[index].mean = np.mean(self.nodes[index].Y)\n",
    "            self.nodes[index].X = None\n",
    "            self.nodes[index].Y = None\n",
    "            \n",
    "        self.feature_importances = self.feature_importances / float(np.sum(self.feature_importances))\n",
    "                \n",
    "        return self\n",
    "        \n",
    "    def predict(self, X):\n",
    "        \n",
    "        answer = np.zeros(X.shape[0])\n",
    "        \n",
    "        if len(self.nodes) == 0:\n",
    "            return answer\n",
    "        \n",
    "        for i in xrange(X.shape[0]):\n",
    "            index = 0\n",
    "            \n",
    "            while self.nodes[index].mean is None:\n",
    "                feature = self.nodes[index].feature\n",
    "                threshold = self.nodes[index].threshold\n",
    "                if X[i, feature] <= threshold:\n",
    "                    index = self.nodes[index].left\n",
    "                else:\n",
    "                    index = self.nodes[index].right\n",
    "            answer[i] = self.nodes[index].mean\n",
    "            \n",
    "        return answer"
   ]
  },
  {
   "cell_type": "markdown",
   "metadata": {},
   "source": [
    "# Stochastic gradient boosting"
   ]
  },
  {
   "cell_type": "code",
   "execution_count": 3,
   "metadata": {
    "collapsed": true
   },
   "outputs": [],
   "source": [
    "# Sampling\n",
    "def sampleData(X, Y, sample):\n",
    "    \n",
    "    x, y = util.shuffle(X, Y)\n",
    "    offset = int(x.shape[0] * sample)\n",
    "    \n",
    "    return x[:offset], y[:offset]\n",
    "\n",
    "# Define regressor class\n",
    "class MyRegressor:\n",
    "    \n",
    "    def __init__(self, n_estimators=100, max_depth=3, min_samples_split=2, learning_rate=0.1, subsample=0.5, verbose=0):\n",
    "        \n",
    "        self.n_estimators = n_estimators\n",
    "        self.estimators = [None] * n_estimators\n",
    "        self.max_depth = max_depth\n",
    "        self.min_samples_split = min_samples_split\n",
    "        self.learning_rate = learning_rate\n",
    "        self.subsample = subsample\n",
    "        self.verbose = verbose\n",
    "        self.h = [0] * n_estimators\n",
    "        \n",
    "    def fit(self, X, Y):\n",
    "        \n",
    "        if self.verbose == 1:\n",
    "            print \"Iter\\tTrain Loss\"\n",
    "        \n",
    "        self.init_value = np.mean(Y)\n",
    "        initial = np.empty(X.shape[0])\n",
    "        initial.fill(self.init_value)\n",
    "        self.loss = np.zeros(self.n_estimators)\n",
    "        self.feature_importances = np.zeros(X.shape[1])\n",
    "        \n",
    "        for i in xrange(self.n_estimators):\n",
    "\n",
    "            if i == 0:\n",
    "                prev = initial\n",
    "            else:\n",
    "                prev = self.h[i - 1]\n",
    "                \n",
    "            G = Y - prev\n",
    "            x, g = sampleData(X, G, self.subsample)\n",
    "            \n",
    "            self.estimators[i] = CTree(max_depth=self.max_depth, min_samples_split=self.min_samples_split)\n",
    "            self.estimators[i].fit(x, g)\n",
    "            self.feature_importances += self.learning_rate * self.estimators[i].feature_importances\n",
    "            self.h[i] = prev + self.learning_rate * self.estimators[i].predict(X)\n",
    "            self.loss[i] = mean_squared_error(self.h[i], Y)\n",
    "               \n",
    "            if self.verbose == 1:\n",
    "                if i <= 10 or i % 10 == 0:\n",
    "                    print \"%d\\t%0.4f\" % (i, self.loss[i])\n",
    "                    \n",
    "        self.feature_importances = self.feature_importances / float(np.sum(self.feature_importances))\n",
    "        \n",
    "        return self\n",
    "        \n",
    "    def predict(self, X, Y=None):\n",
    "\n",
    "        answer = np.empty(X.shape[0])\n",
    "        answer.fill(self.init_value)\n",
    "        \n",
    "        if Y is not None:\n",
    "            self.test_loss = np.zeros(self.n_estimators)\n",
    "        \n",
    "        for i in xrange(self.n_estimators):\n",
    "            answer += self.learning_rate * self.estimators[i].predict(X)\n",
    "            \n",
    "            if Y is not None:\n",
    "                self.test_loss[i] = mean_squared_error(answer, Y)\n",
    "\n",
    "        return answer"
   ]
  },
  {
   "cell_type": "markdown",
   "metadata": {},
   "source": [
    "# Load spam dataset"
   ]
  },
  {
   "cell_type": "code",
   "execution_count": 4,
   "metadata": {
    "collapsed": false
   },
   "outputs": [
    {
     "name": "stdout",
     "output_type": "stream",
     "text": [
      "Spam train:\t7093 rows x 102 features\n",
      "Spam test:\t10056 rows x 102 features\n"
     ]
    }
   ],
   "source": [
    "train_df = pd.read_csv(\"datasets/spam-train.txt\", delim_whitespace=True, header=None)\n",
    "test_df = pd.read_csv(\"datasets/spam-test.txt\", delim_whitespace=True, header=None)\n",
    "\n",
    "# Create matrices from dataframes\n",
    "Y_train = train_df[0].as_matrix()\n",
    "Y_test = test_df[0].as_matrix()\n",
    "\n",
    "X_train = train_df.drop(0, axis=1).as_matrix()\n",
    "X_test = test_df.drop(0, axis=1).as_matrix()\n",
    "\n",
    "print \"Spam train:\\t%d rows x %d features\" % (X_train.shape[0], X_train.shape[1])\n",
    "print \"Spam test:\\t%d rows x %d features\" % (X_test.shape[0], X_test.shape[1])"
   ]
  },
  {
   "cell_type": "markdown",
   "metadata": {},
   "source": [
    "# Filter feature selection (CFS)"
   ]
  },
  {
   "cell_type": "code",
   "execution_count": 5,
   "metadata": {
    "collapsed": false
   },
   "outputs": [],
   "source": [
    "def correlation(a, b):\n",
    "    mean_a = np.mean(a)\n",
    "    mean_b = np.mean(b)\n",
    "    \n",
    "    delta_a = np.subtract(a, mean_a)\n",
    "    delta_b = np.subtract(b, mean_b)\n",
    "    \n",
    "    numer = np.sum(delta_a * delta_b)\n",
    "    denom = sqrt(np.dot(delta_a, delta_a)) * sqrt(np.dot(delta_b, delta_b))\n",
    "\n",
    "    return numer / float(denom)\n",
    "\n",
    "def corr_matrix(X):\n",
    "    matrix = np.zeros((X.shape[1], X.shape[1]))\n",
    "    \n",
    "    for i in xrange(X.shape[1]):\n",
    "        matrix[i, i] = 1\n",
    "        for j in xrange(i + 1, X.shape[1]):\n",
    "            matrix[i, j] = correlation(X[:, i], X[:, j])\n",
    "            matrix[j, i] = matrix[i, j]\n",
    "            \n",
    "    return matrix\n",
    "\n",
    "def filterFS(X, Y):\n",
    "    all_features = np.arange(X.shape[1])\n",
    "    features = []\n",
    "    \n",
    "    cross_corr = corr_matrix(X)\n",
    "    y_corr = np.array([correlation(X_train[:, f], Y_train) for f in all_features])\n",
    "    \n",
    "    numer = 0\n",
    "    denom = 1\n",
    "    \n",
    "    while len(all_features) > 0:\n",
    "        best = all_features[0]\n",
    "        max_cfs = -inf\n",
    "\n",
    "        for f in all_features:\n",
    "\n",
    "            f_cross = np.sum([cross_corr[f, j] for j in features])\n",
    "            cfs = (numer + abs(y_corr[f]) / sqrt(denom + 2 * f_cross))\n",
    "\n",
    "            if cfs > max_cfs:\n",
    "                best = f\n",
    "                max_cfs = cfs\n",
    "\n",
    "        features.append(best)\n",
    "        all_features = np.setdiff1d(all_features, [best], assume_unique=True)\n",
    "    \n",
    "    return np.array(features)"
   ]
  },
  {
   "cell_type": "markdown",
   "metadata": {},
   "source": [
    "# Run regressor on feature subsets"
   ]
  },
  {
   "cell_type": "code",
   "execution_count": 6,
   "metadata": {
    "collapsed": false
   },
   "outputs": [
    {
     "name": "stdout",
     "output_type": "stream",
     "text": [
      "[ 48  70  49 101  31  10  56   9   8  51  53  11  14  41  74  52  32  85\n",
      "  71  76   4  99  12  29  83  13   3  89  75  50  80  98  78  73  87  90\n",
      "  15   1   2  19  44  61  16  72  62  35  28  47  77  86 100  92  79  95\n",
      "  46  88  17  91  42  39  96  94  57  43  97  93  18  38   0  81  64  65\n",
      "  30  82  25  66   5  63  58  37  20  59  60  84  68   6  54  33  45  67\n",
      "   7  22  69  34  27  55  36  23  24  21  26  40]\n",
      "Number of features: 1\tTrain loss: 0.1531\tTest loss: 0.1215\n",
      "Number of features: 2\tTrain loss: 0.1154\tTest loss: 0.1347\n",
      "Number of features: 3\tTrain loss: 0.0960\tTest loss: 0.1441\n",
      "Number of features: 4\tTrain loss: 0.0757\tTest loss: 0.1339\n",
      "Number of features: 5\tTrain loss: 0.0717\tTest loss: 0.1278\n",
      "Number of features: 6\tTrain loss: 0.0596\tTest loss: 0.1190\n",
      "Number of features: 7\tTrain loss: 0.0603\tTest loss: 0.1184\n",
      "Number of features: 8\tTrain loss: 0.0569\tTest loss: 0.1151\n",
      "Number of features: 9\tTrain loss: 0.0532\tTest loss: 0.0984\n",
      "Number of features: 10\tTrain loss: 0.0533\tTest loss: 0.1037\n",
      "Number of features: 11\tTrain loss: 0.0505\tTest loss: 0.0993\n",
      "Number of features: 12\tTrain loss: 0.0501\tTest loss: 0.0949\n",
      "Number of features: 13\tTrain loss: 0.0490\tTest loss: 0.0924\n",
      "Number of features: 14\tTrain loss: 0.0475\tTest loss: 0.0980\n",
      "Number of features: 15\tTrain loss: 0.0468\tTest loss: 0.0974\n",
      "Number of features: 16\tTrain loss: 0.0452\tTest loss: 0.0902\n",
      "Number of features: 21\tTrain loss: 0.0403\tTest loss: 0.0662\n",
      "Number of features: 26\tTrain loss: 0.0389\tTest loss: 0.0659\n",
      "Number of features: 31\tTrain loss: 0.0390\tTest loss: 0.0647\n",
      "Number of features: 46\tTrain loss: 0.0380\tTest loss: 0.0661\n",
      "Number of features: 61\tTrain loss: 0.0361\tTest loss: 0.0718\n",
      "Number of features: 76\tTrain loss: 0.0361\tTest loss: 0.0718\n",
      "Number of features: 91\tTrain loss: 0.0358\tTest loss: 0.0712\n",
      "Number of features: 102\tTrain loss: 0.0357\tTest loss: 0.0720\n"
     ]
    }
   ],
   "source": [
    "params = {'n_estimators': 50, 'max_depth': 3, 'learning_rate': 0.1, 'subsample': 0.5, 'verbose': 0}\n",
    "indices = filterFS(X_train, Y_train)\n",
    "print indices\n",
    "\n",
    "mse_train = []\n",
    "mse_test = []\n",
    "t = []\n",
    "\n",
    "for n in xrange(X_train.shape[1]):\n",
    "    if (n < 15) or (n < 30 and n % 5 == 0) or (n % 15 == 0) or (n == X_train.shape[1] - 1):\n",
    "        \n",
    "        t.append(n)\n",
    "        cur_indices = indices[:(n + 1)]\n",
    "\n",
    "        reg = MyRegressor(**params)\n",
    "        reg.fit(X_train[:, cur_indices], Y_train)\n",
    "\n",
    "        pred_train = reg.predict(X_train[:, cur_indices])\n",
    "        pred_test = reg.predict(X_test[:, cur_indices])\n",
    "\n",
    "        mse_train.append(mean_squared_error(pred_train, Y_train))\n",
    "        mse_test.append(mean_squared_error(pred_test, Y_test))\n",
    "\n",
    "        i = len(mse_train) - 1\n",
    "        print \"Number of features: %d\\tTrain loss: %0.4f\\tTest loss: %0.4f\" % (n + 1, mse_train[i], mse_test[i])"
   ]
  },
  {
   "cell_type": "code",
   "execution_count": 7,
   "metadata": {
    "collapsed": false
   },
   "outputs": [
    {
     "name": "stdout",
     "output_type": "stream",
     "text": [
      "Number of features: 17\tTrain loss: 0.0449\tTest loss: 0.0928\n",
      "Number of features: 18\tTrain loss: 0.0441\tTest loss: 0.0900\n",
      "Number of features: 19\tTrain loss: 0.0418\tTest loss: 0.0640\n",
      "Number of features: 20\tTrain loss: 0.0413\tTest loss: 0.0690\n"
     ]
    }
   ],
   "source": [
    "for n in xrange(16, 20):\n",
    "    \n",
    "    cur_indices = indices[:(n + 1)]\n",
    "\n",
    "    reg = MyRegressor(**params)\n",
    "    reg.fit(X_train[:, cur_indices], Y_train)\n",
    "\n",
    "    pred_train = reg.predict(X_train[:, cur_indices])\n",
    "    pred_test = reg.predict(X_test[:, cur_indices])\n",
    "\n",
    "    print \"Number of features: %d\\tTrain loss: %0.4f\\tTest loss: %0.4f\" % (n + 1,\n",
    "                                                                           mean_squared_error(pred_train, Y_train),\n",
    "                                                                           mean_squared_error(pred_test, Y_test))"
   ]
  },
  {
   "cell_type": "markdown",
   "metadata": {},
   "source": [
    "# View selected features"
   ]
  },
  {
   "cell_type": "code",
   "execution_count": 8,
   "metadata": {
    "collapsed": false
   },
   "outputs": [
    {
     "name": "stdout",
     "output_type": "stream",
     "text": [
      "Selected features: [ 48  70  49 101  31  10  56   9   8  51  53  11  14  41  74  52  32  85\n",
      "  71]\n"
     ]
    }
   ],
   "source": [
    "print \"Selected features:\", indices[:19]  # [48, 70, 49, 101, 31, 10, 56, 9, 8, 51, 53, 11, 14, 41, 74, 52, 32, 85, 71]"
   ]
  },
  {
   "cell_type": "markdown",
   "metadata": {},
   "source": [
    "# Plot train & test loss"
   ]
  },
  {
   "cell_type": "code",
   "execution_count": 14,
   "metadata": {
    "collapsed": false,
    "scrolled": false
   },
   "outputs": [
    {
     "data": {
      "image/png": "[encoded data removed]",
      "text/plain": [
       "<matplotlib.figure.Figure at 0x113e924d0>"
      ]
     },
     "metadata": {},
     "output_type": "display_data"
    }
   ],
   "source": [
    "pl.figure(figsize=(8, 8))\n",
    "\n",
    "N = X_train.shape[1]\n",
    "tt = np.add(t, 1)\n",
    "\n",
    "train, = pl.plot(tt, mse_train, color=\"red\", linewidth=1.0, linestyle=\"-\", marker='o')\n",
    "test, = pl.plot(tt, mse_test, color=\"blue\", linewidth=1.0, linestyle=\"-\", marker='o')\n",
    "pl.xlim(1, N)\n",
    "pl.title(\"spam\")\n",
    "pl.legend([train, test], ['train loss', 'test loss'])\n",
    "pl.xlabel(\"Number of features\")\n",
    "pl.ylabel(\"Mean squared error\")\n",
    "\n",
    "pl.show()"
   ]
  },
  {
   "cell_type": "markdown",
   "metadata": {},
   "source": [
    "# Check on sklearn regressor"
   ]
  },
  {
   "cell_type": "code",
   "execution_count": 13,
   "metadata": {
    "collapsed": false
   },
   "outputs": [
    {
     "name": "stdout",
     "output_type": "stream",
     "text": [
      "MSE on 102 features:\t0.0694823701\n",
      "MSE on 19 features:\t0.0640259041\n"
     ]
    }
   ],
   "source": [
    "model_sk = ensemble.GradientBoostingRegressor(**params)\n",
    "model_sk.fit(X_train, Y_train)\n",
    "mse_sklearn = mean_squared_error(model_sk.predict(X_test), Y_test)\n",
    "print \"MSE on %d features:\\t%0.10f\" % (X_train.shape[1], mse_sklearn)\n",
    "\n",
    "X_train_small = X_train[:, indices[:19]]\n",
    "X_test_small = X_test[:, indices[:19]]\n",
    "\n",
    "model_sk_small = ensemble.GradientBoostingRegressor(**params)\n",
    "model_sk_small.fit(X_train_small, Y_train)\n",
    "mse_sklearn_small = mean_squared_error(model_sk_small.predict(X_test_small), Y_test)\n",
    "print \"MSE on %d features:\\t%0.10f\" % (X_train_small.shape[1], mse_sklearn_small)"
   ]
  },
  {
   "cell_type": "code",
   "execution_count": null,
   "metadata": {
    "collapsed": true
   },
   "outputs": [],
   "source": []
  }
 ],
 "metadata": {
  "kernelspec": {
   "display_name": "Python 2",
   "language": "python",
   "name": "python2"
  },
  "language_info": {
   "codemirror_mode": {
    "name": "ipython",
    "version": 2
   },
   "file_extension": ".py",
   "mimetype": "text/x-python",
   "name": "python",
   "nbconvert_exporter": "python",
   "pygments_lexer": "ipython2",
   "version": "2.7.10"
  }
 },
 "nbformat": 4,
 "nbformat_minor": 0
}
