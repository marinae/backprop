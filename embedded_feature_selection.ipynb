{
 "cells": [
  {
   "cell_type": "code",
   "execution_count": 1,
   "metadata": {
    "collapsed": false
   },
   "outputs": [
    {
     "name": "stdout",
     "output_type": "stream",
     "text": [
      "Populating the interactive namespace from numpy and matplotlib\n"
     ]
    }
   ],
   "source": [
    "import pandas as pd\n",
    "import numpy as np\n",
    "import pylab as pl\n",
    "import sklearn.utils as util\n",
    "\n",
    "from sklearn import ensemble\n",
    "from sklearn.metrics import mean_squared_error\n",
    "\n",
    "%pylab inline"
   ]
  },
  {
   "cell_type": "markdown",
   "metadata": {},
   "source": [
    "# Decision tree"
   ]
  },
  {
   "cell_type": "code",
   "execution_count": 2,
   "metadata": {
    "collapsed": false
   },
   "outputs": [],
   "source": [
    "# Calculate impurity in node\n",
    "def node_impurity(y):\n",
    "    \n",
    "    mean = np.mean(y)\n",
    "    delta = np.subtract(y, mean)\n",
    "    return np.dot(delta, delta)\n",
    "\n",
    "# Calculate normalized impurity in node\n",
    "def node_impurity_norm(y):\n",
    "\n",
    "    return node_impurity(y) / float(len(y))\n",
    "\n",
    "# Find impurity after splitting\n",
    "def impurity_after_split(y, i):\n",
    "\n",
    "    l_samples = y[:i]\n",
    "    r_samples = y[i:]\n",
    "    N_l = i\n",
    "    N_r = len(y) - i\n",
    "    \n",
    "    return N_l * node_impurity_norm(l_samples) + N_r * node_impurity_norm(r_samples)\n",
    "\n",
    "# Find best split for node\n",
    "def find_split(node):\n",
    "    \n",
    "    new_impurity = +inf\n",
    "    min_impurity = +inf\n",
    "    feature = None\n",
    "    threshold = None\n",
    "    l_rows = None\n",
    "    r_rows = None\n",
    "    \n",
    "    for j in xrange(node.X.shape[1]):\n",
    "        x_column = node.X[:, j]\n",
    "        rows = np.argsort(x_column)\n",
    "        x_sorted = x_column[rows]\n",
    "        y_sorted = node.Y[rows]\n",
    "        \n",
    "        for i in xrange(1, len(x_sorted)):   \n",
    "            \n",
    "            if x_sorted[i] == x_sorted[i - 1]:\n",
    "                continue\n",
    "                \n",
    "            new_impurity = impurity_after_split(y_sorted, i)\n",
    "            \n",
    "            if new_impurity < min_impurity:\n",
    "                min_impurity = new_impurity\n",
    "                feature = j\n",
    "                threshold = (x_sorted[i] + x_sorted[i - 1]) / 2.0\n",
    "                l_rows = rows[:i]\n",
    "                r_rows = rows[i:]\n",
    "\n",
    "    return feature, threshold, l_rows, r_rows\n",
    "    \n",
    "# Define a tree node\n",
    "class CNode:\n",
    "    \n",
    "    def __init__(self, X, Y, feature=None, threshold=None, depth=0, parent=None):\n",
    "        \n",
    "        self.X = X\n",
    "        self.Y = Y\n",
    "        self.feature = feature\n",
    "        self.threshold = threshold\n",
    "        self.depth = depth\n",
    "        self.parent = parent\n",
    "        \n",
    "        self.impurity = node_impurity_norm(Y)\n",
    "        self.reduction = None\n",
    "        self.mean = None\n",
    "        \n",
    "    def split(self):\n",
    "\n",
    "        feature, threshold, l_rows, r_rows = find_split(self)\n",
    "        \n",
    "        if feature is not None:\n",
    "            self.feature = feature\n",
    "            self.threshold = threshold\n",
    "            self.reduction = node_impurity(self.Y) - node_impurity(self.Y[l_rows]) - node_impurity(self.Y[r_rows])\n",
    "            left_node = CNode(self.X[l_rows], self.Y[l_rows], depth=self.depth + 1)\n",
    "            right_node = CNode(self.X[r_rows], self.Y[r_rows], depth=self.depth + 1)\n",
    "            \n",
    "        else:\n",
    "            left_node = None\n",
    "            right_node = None\n",
    "        \n",
    "        return left_node, right_node\n",
    "        \n",
    "# Define a decision tree\n",
    "class CTree:\n",
    "    \n",
    "    def __init__(self, max_depth=3, min_samples_split=2):\n",
    "        \n",
    "        self.nodes = []\n",
    "        self.max_depth = max_depth\n",
    "        self.min_samples_split = min_samples_split\n",
    "        \n",
    "    def fit(self, X, Y):\n",
    "        \n",
    "        self.nodes = np.array([CNode(X, Y)])\n",
    "        self.feature_importances = np.zeros(X.shape[1])\n",
    "        todo = np.array([0])\n",
    "        \n",
    "        while todo.size > 0:\n",
    "            index = todo[0]\n",
    "            todo = todo[1:]\n",
    "            \n",
    "            if self.nodes[index].depth < self.max_depth and len(self.nodes[index].X) > self.min_samples_split:\n",
    "                \n",
    "                left, right = self.nodes[index].split()\n",
    "\n",
    "                if left is not None:\n",
    "                    N = len(self.nodes)\n",
    "                    self.nodes[index].left = N\n",
    "                    self.nodes[index].right = N + 1\n",
    "                    left.parent = index\n",
    "                    right.parent = index\n",
    "                    self.nodes = np.append(self.nodes, [left, right])\n",
    "                    feature = self.nodes[index].feature\n",
    "                    self.feature_importances[feature] += self.nodes[index].reduction\n",
    "                    todo = np.append(todo, [N, N + 1])\n",
    "                    continue\n",
    "                    \n",
    "            self.nodes[index].mean = np.mean(self.nodes[index].Y)\n",
    "            self.nodes[index].X = None\n",
    "            self.nodes[index].Y = None\n",
    "            \n",
    "        self.feature_importances = self.feature_importances / float(np.sum(self.feature_importances))\n",
    "                \n",
    "        return self\n",
    "        \n",
    "    def predict(self, X):\n",
    "        \n",
    "        answer = np.zeros(X.shape[0])\n",
    "        \n",
    "        if len(self.nodes) == 0:\n",
    "            return answer\n",
    "        \n",
    "        for i in xrange(X.shape[0]):\n",
    "            index = 0\n",
    "            \n",
    "            while self.nodes[index].mean is None:\n",
    "                feature = self.nodes[index].feature\n",
    "                threshold = self.nodes[index].threshold\n",
    "                if X[i, feature] <= threshold:\n",
    "                    index = self.nodes[index].left\n",
    "                else:\n",
    "                    index = self.nodes[index].right\n",
    "            answer[i] = self.nodes[index].mean\n",
    "            \n",
    "        return answer"
   ]
  },
  {
   "cell_type": "markdown",
   "metadata": {},
   "source": [
    "# Stochastic gradient boosting"
   ]
  },
  {
   "cell_type": "code",
   "execution_count": 3,
   "metadata": {
    "collapsed": true
   },
   "outputs": [],
   "source": [
    "# Sampling\n",
    "def sampleData(X, Y, sample):\n",
    "    \n",
    "    x, y = util.shuffle(X, Y)\n",
    "    offset = int(x.shape[0] * sample)\n",
    "    \n",
    "    return x[:offset], y[:offset]\n",
    "\n",
    "# Define regressor class\n",
    "class MyRegressor:\n",
    "    \n",
    "    def __init__(self, n_estimators=100, max_depth=3, min_samples_split=2, learning_rate=0.1, subsample=0.5, verbose=0):\n",
    "        \n",
    "        self.n_estimators = n_estimators\n",
    "        self.estimators = [None] * n_estimators\n",
    "        self.max_depth = max_depth\n",
    "        self.min_samples_split = min_samples_split\n",
    "        self.learning_rate = learning_rate\n",
    "        self.subsample = subsample\n",
    "        self.verbose = verbose\n",
    "        self.h = [0] * n_estimators\n",
    "        \n",
    "    def fit(self, X, Y):\n",
    "        \n",
    "        if self.verbose == 1:\n",
    "            print \"Iter\\tTrain Loss\"\n",
    "        \n",
    "        self.init_value = np.mean(Y)\n",
    "        initial = np.empty(X.shape[0])\n",
    "        initial.fill(self.init_value)\n",
    "        self.loss = np.zeros(self.n_estimators)\n",
    "        self.feature_importances = np.zeros(X.shape[1])\n",
    "        \n",
    "        for i in xrange(self.n_estimators):\n",
    "\n",
    "            if i == 0:\n",
    "                prev = initial\n",
    "            else:\n",
    "                prev = self.h[i - 1]\n",
    "                \n",
    "            G = Y - prev\n",
    "            x, g = sampleData(X, G, self.subsample)\n",
    "            \n",
    "            self.estimators[i] = CTree(max_depth=self.max_depth, min_samples_split=self.min_samples_split)\n",
    "            self.estimators[i].fit(x, g)\n",
    "            self.feature_importances += self.learning_rate * self.estimators[i].feature_importances\n",
    "            self.h[i] = prev + self.learning_rate * self.estimators[i].predict(X)\n",
    "            self.loss[i] = mean_squared_error(self.h[i], Y)\n",
    "               \n",
    "            if self.verbose == 1:\n",
    "                if i <= 10 or i % 10 == 0:\n",
    "                    print \"%d\\t%0.4f\" % (i, self.loss[i])\n",
    "                    \n",
    "        self.feature_importances = self.feature_importances / float(np.sum(self.feature_importances))\n",
    "        \n",
    "        return self\n",
    "        \n",
    "    def predict(self, X, Y=None):\n",
    "\n",
    "        answer = np.empty(X.shape[0])\n",
    "        answer.fill(self.init_value)\n",
    "        \n",
    "        if Y is not None:\n",
    "            self.test_loss = np.zeros(self.n_estimators)\n",
    "        \n",
    "        for i in xrange(self.n_estimators):\n",
    "            answer += self.learning_rate * self.estimators[i].predict(X)\n",
    "            \n",
    "            if Y is not None:\n",
    "                self.test_loss[i] = mean_squared_error(answer, Y)\n",
    "\n",
    "        return answer"
   ]
  },
  {
   "cell_type": "markdown",
   "metadata": {},
   "source": [
    "# Load spam dataset"
   ]
  },
  {
   "cell_type": "code",
   "execution_count": 4,
   "metadata": {
    "collapsed": false
   },
   "outputs": [
    {
     "name": "stdout",
     "output_type": "stream",
     "text": [
      "Spam train:\t7093 rows x 102 features\n",
      "Spam test:\t10056 rows x 102 features\n"
     ]
    }
   ],
   "source": [
    "train_df = pd.read_csv(\"datasets/spam-train.txt\", delim_whitespace=True, header=None)\n",
    "test_df = pd.read_csv(\"datasets/spam-test.txt\", delim_whitespace=True, header=None)\n",
    "\n",
    "# Create matrices from dataframes\n",
    "Y_train = train_df[0].as_matrix()\n",
    "Y_test = test_df[0].as_matrix()\n",
    "\n",
    "X_train = train_df.drop(0, axis=1).as_matrix()\n",
    "X_test = test_df.drop(0, axis=1).as_matrix()\n",
    "\n",
    "print \"Spam train:\\t%d rows x %d features\" % (X_train.shape[0], X_train.shape[1])\n",
    "print \"Spam test:\\t%d rows x %d features\" % (X_test.shape[0], X_test.shape[1])"
   ]
  },
  {
   "cell_type": "markdown",
   "metadata": {},
   "source": [
    "# Embedded feature selection"
   ]
  },
  {
   "cell_type": "code",
   "execution_count": 5,
   "metadata": {
    "collapsed": false
   },
   "outputs": [
    {
     "name": "stdout",
     "output_type": "stream",
     "text": [
      "[ 0.00099732  0.00022824  0.          0.00515154  0.0293665   0.00040023\n",
      "  0.00248709  0.00135657  0.03828454  0.06178078  0.03403132  0.00972621\n",
      "  0.00962315  0.01559703  0.011518    0.01448354  0.00666656  0.01278832\n",
      "  0.00783805  0.0095247   0.0055275   0.          0.00911734  0.\n",
      "  0.01408135  0.          0.          0.00111666  0.          0.01934852\n",
      "  0.00262232  0.01200048  0.0230565   0.00876204  0.          0.03125258\n",
      "  0.          0.00429175  0.01094302  0.00731483  0.          0.02173992\n",
      "  0.00065373  0.01785935  0.00120447  0.          0.          0.01381195\n",
      "  0.08521073  0.04357113  0.00572733  0.00673796  0.02289323  0.05714252\n",
      "  0.00070841  0.00724611  0.01013019  0.          0.          0.00178075\n",
      "  0.          0.          0.          0.          0.          0.          0.\n",
      "  0.          0.          0.          0.0460509   0.05871077  0.00650461\n",
      "  0.02897109  0.0012849   0.01203378  0.02090954  0.          0.          0.\n",
      "  0.00021109  0.00095518  0.          0.01609763  0.00265513  0.00613163\n",
      "  0.          0.01321713  0.00033138  0.          0.          0.          0.\n",
      "  0.          0.          0.00383363  0.00461491  0.          0.          0.\n",
      "  0.01513579  0.04464852]\n",
      "[ 48   9  71  53  70 101  49   8  10  35   4  73  32  52  41  76  29  43\n",
      "  83  13 100  15  24  47  87  17  75  31  14  38  56  11  12  19  22  33\n",
      "  18  39  55  51  16  72  85  50  20   3  96  37  95  84  30   6  59   7\n",
      "  74  44  27   0  81  54  42   5  88   1  80  97  21  86   2  89  90  91\n",
      "  92  99  93  23  98  94  57  82  67  60  61  62  63  64  65  66  46  45\n",
      "  68  25  40  69  36  77  34  78  79  58  26  28]\n",
      "Number of features: 1\tTrain loss: 0.1531\tTest loss: 0.1212\n",
      "Number of features: 2\tTrain loss: 0.1185\tTest loss: 0.1231\n",
      "Number of features: 3\tTrain loss: 0.0950\tTest loss: 0.0920\n",
      "Number of features: 4\tTrain loss: 0.0788\tTest loss: 0.0846\n",
      "Number of features: 5\tTrain loss: 0.0670\tTest loss: 0.0881\n",
      "Number of features: 6\tTrain loss: 0.0586\tTest loss: 0.0795\n",
      "Number of features: 7\tTrain loss: 0.0537\tTest loss: 0.0739\n",
      "Number of features: 8\tTrain loss: 0.0505\tTest loss: 0.0670\n",
      "Number of features: 9\tTrain loss: 0.0486\tTest loss: 0.0755\n",
      "Number of features: 10\tTrain loss: 0.0465\tTest loss: 0.0758\n",
      "Number of features: 11\tTrain loss: 0.0447\tTest loss: 0.0723\n",
      "Number of features: 12\tTrain loss: 0.0441\tTest loss: 0.0723\n",
      "Number of features: 13\tTrain loss: 0.0433\tTest loss: 0.0806\n",
      "Number of features: 14\tTrain loss: 0.0411\tTest loss: 0.0710\n",
      "Number of features: 15\tTrain loss: 0.0405\tTest loss: 0.0723\n",
      "Number of features: 16\tTrain loss: 0.0394\tTest loss: 0.0746\n",
      "Number of features: 17\tTrain loss: 0.0385\tTest loss: 0.0693\n",
      "Number of features: 18\tTrain loss: 0.0387\tTest loss: 0.0734\n",
      "Number of features: 19\tTrain loss: 0.0383\tTest loss: 0.0704\n",
      "Number of features: 20\tTrain loss: 0.0385\tTest loss: 0.0689\n",
      "Number of features: 21\tTrain loss: 0.0386\tTest loss: 0.0774\n",
      "Number of features: 22\tTrain loss: 0.0376\tTest loss: 0.0739\n",
      "Number of features: 23\tTrain loss: 0.0376\tTest loss: 0.0705\n",
      "Number of features: 24\tTrain loss: 0.0376\tTest loss: 0.0714\n",
      "Number of features: 25\tTrain loss: 0.0371\tTest loss: 0.0686\n",
      "Number of features: 26\tTrain loss: 0.0366\tTest loss: 0.0701\n",
      "Number of features: 27\tTrain loss: 0.0370\tTest loss: 0.0751\n",
      "Number of features: 28\tTrain loss: 0.0359\tTest loss: 0.0710\n",
      "Number of features: 29\tTrain loss: 0.0365\tTest loss: 0.0724\n",
      "Number of features: 30\tTrain loss: 0.0364\tTest loss: 0.0714\n",
      "Number of features: 31\tTrain loss: 0.0360\tTest loss: 0.0718\n",
      "Number of features: 32\tTrain loss: 0.0365\tTest loss: 0.0742\n",
      "Number of features: 33\tTrain loss: 0.0362\tTest loss: 0.0690\n",
      "Number of features: 34\tTrain loss: 0.0363\tTest loss: 0.0751\n",
      "Number of features: 35\tTrain loss: 0.0359\tTest loss: 0.0728\n",
      "Number of features: 36\tTrain loss: 0.0354\tTest loss: 0.0742\n",
      "Number of features: 37\tTrain loss: 0.0365\tTest loss: 0.0703\n",
      "Number of features: 38\tTrain loss: 0.0359\tTest loss: 0.0705\n",
      "Number of features: 39\tTrain loss: 0.0361\tTest loss: 0.0732\n",
      "Number of features: 40\tTrain loss: 0.0359\tTest loss: 0.0752\n",
      "Number of features: 41\tTrain loss: 0.0365\tTest loss: 0.0646\n",
      "Number of features: 42\tTrain loss: 0.0366\tTest loss: 0.0792\n",
      "Number of features: 43\tTrain loss: 0.0355\tTest loss: 0.0717\n",
      "Number of features: 44\tTrain loss: 0.0357\tTest loss: 0.0661\n",
      "Number of features: 45\tTrain loss: 0.0355\tTest loss: 0.0690\n",
      "Number of features: 46\tTrain loss: 0.0356\tTest loss: 0.0707\n",
      "Number of features: 47\tTrain loss: 0.0353\tTest loss: 0.0642\n",
      "Number of features: 48\tTrain loss: 0.0359\tTest loss: 0.0693\n",
      "Number of features: 49\tTrain loss: 0.0355\tTest loss: 0.0745\n",
      "Number of features: 50\tTrain loss: 0.0348\tTest loss: 0.0641\n",
      "Number of features: 51\tTrain loss: 0.0364\tTest loss: 0.0765\n",
      "Number of features: 52\tTrain loss: 0.0359\tTest loss: 0.0668\n",
      "Number of features: 53\tTrain loss: 0.0355\tTest loss: 0.0639\n",
      "Number of features: 54\tTrain loss: 0.0351\tTest loss: 0.0691\n",
      "Number of features: 55\tTrain loss: 0.0351\tTest loss: 0.0590\n",
      "Number of features: 56\tTrain loss: 0.0346\tTest loss: 0.0684\n",
      "Number of features: 57\tTrain loss: 0.0358\tTest loss: 0.0697\n",
      "Number of features: 58\tTrain loss: 0.0360\tTest loss: 0.0675\n",
      "Number of features: 59\tTrain loss: 0.0357\tTest loss: 0.0696\n",
      "Number of features: 60\tTrain loss: 0.0353\tTest loss: 0.0677\n",
      "Number of features: 61\tTrain loss: 0.0361\tTest loss: 0.0723\n",
      "Number of features: 62\tTrain loss: 0.0358\tTest loss: 0.0643\n",
      "Number of features: 63\tTrain loss: 0.0352\tTest loss: 0.0700\n",
      "Number of features: 64\tTrain loss: 0.0351\tTest loss: 0.0697\n",
      "Number of features: 65\tTrain loss: 0.0358\tTest loss: 0.0714\n",
      "Number of features: 66\tTrain loss: 0.0357\tTest loss: 0.0766\n",
      "Number of features: 67\tTrain loss: 0.0353\tTest loss: 0.0777\n",
      "Number of features: 68\tTrain loss: 0.0356\tTest loss: 0.0682\n",
      "Number of features: 69\tTrain loss: 0.0354\tTest loss: 0.0709\n",
      "Number of features: 70\tTrain loss: 0.0360\tTest loss: 0.0697\n",
      "Number of features: 71\tTrain loss: 0.0362\tTest loss: 0.0639\n",
      "Number of features: 72\tTrain loss: 0.0355\tTest loss: 0.0709\n",
      "Number of features: 73\tTrain loss: 0.0363\tTest loss: 0.0674\n",
      "Number of features: 74\tTrain loss: 0.0349\tTest loss: 0.0679\n",
      "Number of features: 75\tTrain loss: 0.0360\tTest loss: 0.0700\n",
      "Number of features: 76\tTrain loss: 0.0353\tTest loss: 0.0655\n",
      "Number of features: 77\tTrain loss: 0.0362\tTest loss: 0.0753\n",
      "Number of features: 78\tTrain loss: 0.0360\tTest loss: 0.0695\n",
      "Number of features: 79\tTrain loss: 0.0362\tTest loss: 0.0694\n",
      "Number of features: 80\tTrain loss: 0.0354\tTest loss: 0.0723\n",
      "Number of features: 81\tTrain loss: 0.0358\tTest loss: 0.0702\n",
      "Number of features: 82\tTrain loss: 0.0358\tTest loss: 0.0664\n",
      "Number of features: 83\tTrain loss: 0.0355\tTest loss: 0.0715\n",
      "Number of features: 84\tTrain loss: 0.0354\tTest loss: 0.0695\n",
      "Number of features: 85\tTrain loss: 0.0361\tTest loss: 0.0715\n",
      "Number of features: 86\tTrain loss: 0.0355\tTest loss: 0.0693\n",
      "Number of features: 87\tTrain loss: 0.0357\tTest loss: 0.0696\n",
      "Number of features: 88\tTrain loss: 0.0355\tTest loss: 0.0699\n",
      "Number of features: 89\tTrain loss: 0.0357\tTest loss: 0.0694\n",
      "Number of features: 90\tTrain loss: 0.0358\tTest loss: 0.0690\n",
      "Number of features: 91\tTrain loss: 0.0355\tTest loss: 0.0656\n",
      "Number of features: 92\tTrain loss: 0.0354\tTest loss: 0.0723\n",
      "Number of features: 93\tTrain loss: 0.0351\tTest loss: 0.0810\n",
      "Number of features: 94\tTrain loss: 0.0360\tTest loss: 0.0669\n",
      "Number of features: 95\tTrain loss: 0.0358\tTest loss: 0.0684\n",
      "Number of features: 96\tTrain loss: 0.0356\tTest loss: 0.0710\n",
      "Number of features: 97\tTrain loss: 0.0351\tTest loss: 0.0717\n",
      "Number of features: 98\tTrain loss: 0.0359\tTest loss: 0.0745\n",
      "Number of features: 99\tTrain loss: 0.0354\tTest loss: 0.0654\n",
      "Number of features: 100\tTrain loss: 0.0353\tTest loss: 0.0671\n",
      "Number of features: 101\tTrain loss: 0.0347\tTest loss: 0.0725\n",
      "Number of features: 102\tTrain loss: 0.0356\tTest loss: 0.0707\n"
     ]
    }
   ],
   "source": [
    "def embeddedFS(X, Y, model):\n",
    "    reg = model.fit(X, Y)\n",
    "    importances = model.feature_importances\n",
    "    print importances\n",
    "    indices = np.argsort(importances)[::-1]\n",
    "    return indices\n",
    "\n",
    "params = {'n_estimators': 50, 'max_depth': 3, 'learning_rate': 0.1, 'subsample': 0.5, 'verbose': 0}\n",
    "model = MyRegressor(**params)\n",
    "indices = embeddedFS(X_train, Y_train, model)\n",
    "print indices\n",
    "\n",
    "mse_train = np.zeros(X_train.shape[1])\n",
    "mse_test = np.zeros(X_train.shape[1])\n",
    "\n",
    "for n in xrange(X_train.shape[1]):\n",
    "    cur_indices = indices[:(n + 1)]\n",
    "    \n",
    "    reg = MyRegressor(**params)\n",
    "    reg.fit(X_train[:, cur_indices], Y_train)\n",
    "    \n",
    "    pred_train = reg.predict(X_train[:, cur_indices])\n",
    "    pred_test = reg.predict(X_test[:, cur_indices])\n",
    "    \n",
    "    mse_train[n] = mean_squared_error(pred_train, Y_train)\n",
    "    mse_test[n] = mean_squared_error(pred_test, Y_test)\n",
    "    \n",
    "    print \"Number of features: %d\\tTrain loss: %0.4f\\tTest loss: %0.4f\" % (n + 1, mse_train[n], mse_test[n])"
   ]
  },
  {
   "cell_type": "markdown",
   "metadata": {},
   "source": [
    "# View selected features"
   ]
  },
  {
   "cell_type": "code",
   "execution_count": 6,
   "metadata": {
    "collapsed": false
   },
   "outputs": [
    {
     "name": "stdout",
     "output_type": "stream",
     "text": [
      "Selected features: [ 48   9  71  53  70 101  49   8]\n"
     ]
    }
   ],
   "source": [
    "print \"Selected features:\", indices[:8]    # [48, 9, 71, 53, 70, 101, 49, 8]"
   ]
  },
  {
   "cell_type": "markdown",
   "metadata": {},
   "source": [
    "# Plot train & test loss"
   ]
  },
  {
   "cell_type": "code",
   "execution_count": 7,
   "metadata": {
    "collapsed": false
   },
   "outputs": [
    {
     "data": {
      "image/png": "[encoded data removed]",
      "text/plain": [
       "<matplotlib.figure.Figure at 0x109aa9bd0>"
      ]
     },
     "metadata": {},
     "output_type": "display_data"
    }
   ],
   "source": [
    "pl.figure(figsize=(8, 8))\n",
    "\n",
    "N = X_train.shape[1]\n",
    "t = np.linspace(1, N, N, endpoint=True)\n",
    "\n",
    "train, = pl.plot(t, mse_train, color=\"red\", linewidth=1.0, linestyle=\"-\")\n",
    "test, = pl.plot(t, mse_test, color=\"blue\", linewidth=1.0, linestyle=\"-\")\n",
    "pl.xlim(1, N)\n",
    "pl.title(\"spam\")\n",
    "pl.legend([train, test], ['train loss', 'test loss'])\n",
    "pl.xlabel(\"Number of features\")\n",
    "pl.ylabel(\"Mean squared error\")\n",
    "\n",
    "pl.show()"
   ]
  },
  {
   "cell_type": "markdown",
   "metadata": {},
   "source": [
    "# Check on sklearn regressor"
   ]
  },
  {
   "cell_type": "code",
   "execution_count": 13,
   "metadata": {
    "collapsed": false
   },
   "outputs": [
    {
     "name": "stdout",
     "output_type": "stream",
     "text": [
      "MSE on 102 features:\t0.0736479318\n",
      "MSE on 8 features:\t0.0670077441\n"
     ]
    }
   ],
   "source": [
    "model_sk = ensemble.GradientBoostingRegressor(**params)\n",
    "model_sk.fit(X_train, Y_train)\n",
    "mse_sklearn = mean_squared_error(model_sk.predict(X_test), Y_test)\n",
    "print \"MSE on %d features:\\t%0.10f\" % (X_train.shape[1], mse_sklearn)\n",
    "\n",
    "X_train_small = X_train[:, indices[:8]]\n",
    "X_test_small = X_test[:, indices[:8]]\n",
    "\n",
    "model_sk_small = ensemble.GradientBoostingRegressor(**params)\n",
    "model_sk_small.fit(X_train_small, Y_train)\n",
    "mse_sklearn_small = mean_squared_error(model_sk_small.predict(X_test_small), Y_test)\n",
    "print \"MSE on %d features:\\t%0.10f\" % (X_train_small.shape[1], mse_sklearn_small)"
   ]
  },
  {
   "cell_type": "markdown",
   "metadata": {},
   "source": [
    "# Visualize importance of every feature"
   ]
  },
  {
   "cell_type": "code",
   "execution_count": 20,
   "metadata": {
    "collapsed": false
   },
   "outputs": [
    {
     "data": {
      "image/png": "[encoded data removed]",
      "text/plain": [
       "<matplotlib.figure.Figure at 0x15782bed0>"
      ]
     },
     "metadata": {},
     "output_type": "display_data"
    }
   ],
   "source": [
    "pl.figure(figsize=(5, 10))\n",
    "\n",
    "pl.barh(t, model.feature_importances, align='center')\n",
    "pl.ylim(0, N + 1)\n",
    "pl.title(\"Feature importances (embedded method)\")\n",
    "pl.xlabel(\"% of importance\")\n",
    "pl.ylabel(\"Feature ID\")\n",
    "\n",
    "pl.show()"
   ]
  },
  {
   "cell_type": "code",
   "execution_count": null,
   "metadata": {
    "collapsed": true
   },
   "outputs": [],
   "source": []
  }
 ],
 "metadata": {
  "kernelspec": {
   "display_name": "Python 2",
   "language": "python",
   "name": "python2"
  },
  "language_info": {
   "codemirror_mode": {
    "name": "ipython",
    "version": 2
   },
   "file_extension": ".py",
   "mimetype": "text/x-python",
   "name": "python",
   "nbconvert_exporter": "python",
   "pygments_lexer": "ipython2",
   "version": "2.7.10"
  }
 },
 "nbformat": 4,
 "nbformat_minor": 0
}
