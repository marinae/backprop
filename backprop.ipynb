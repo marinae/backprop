{
 "cells": [
  {
   "cell_type": "code",
   "execution_count": 1,
   "metadata": {
    "collapsed": false
   },
   "outputs": [
    {
     "name": "stdout",
     "output_type": "stream",
     "text": [
      "Populating the interactive namespace from numpy and matplotlib\n"
     ]
    }
   ],
   "source": [
    "import glob\n",
    "import numpy as np\n",
    "import pylab as pl\n",
    "from scipy import misc\n",
    "\n",
    "%pylab inline"
   ]
  },
  {
   "cell_type": "markdown",
   "metadata": {},
   "source": [
    "# Load images"
   ]
  },
  {
   "cell_type": "code",
   "execution_count": 2,
   "metadata": {
    "collapsed": true
   },
   "outputs": [],
   "source": [
    "def constructFilenames(data_dir):\n",
    "    \"\"\"\n",
    "    Returns generated filenames for every English letter.\n",
    "    \"\"\"\n",
    "    filenames = []\n",
    "    for letter_id in xrange(26):\n",
    "        filenames_of_letter = []\n",
    "        filenames_of_letter.append(data_dir + 'class-' + str(letter_id) + '.bmp')\n",
    "        for f in glob.glob(data_dir + 'mutant-' + str(letter_id) + '-*-*.bmp'):\n",
    "            filenames_of_letter.append(f)\n",
    "        filenames.append(filenames_of_letter)\n",
    "    return filenames\n",
    "\n",
    "def loadData(filenames):\n",
    "    \"\"\"\n",
    "    Returns images (as arrays of greyscale values) and corresponding labels.\n",
    "    \"\"\"\n",
    "    n_letters = len(filenames)\n",
    "    all_images = []\n",
    "    all_labels = []\n",
    "    for i, letter_files in enumerate(filenames):\n",
    "        images_of_letter = []\n",
    "        label = np.zeros(n_letters)\n",
    "        label[i] = 1\n",
    "        for f in letter_files:\n",
    "            image = misc.imread(f, flatten=True)\n",
    "            images_of_letter.append([pixel / 255.0 for pixel in image.flatten()])\n",
    "        all_images.append(np.asarray(images_of_letter))\n",
    "        all_labels.append([label] * len(letter_files))\n",
    "    return np.asarray(all_images), np.asarray(all_labels)\n",
    "\n",
    "filenames = constructFilenames('../big_alphabet_29x29/')\n",
    "X, Y = loadData(filenames)"
   ]
  },
  {
   "cell_type": "markdown",
   "metadata": {},
   "source": [
    "# Create train, test and validation sets"
   ]
  },
  {
   "cell_type": "code",
   "execution_count": 3,
   "metadata": {
    "collapsed": false
   },
   "outputs": [],
   "source": [
    "def ThreeFolds(X, Y, train_size=None, test_size=None, cv_size=None):\n",
    "    \"\"\"\n",
    "    Divide X and Y into train, test and validation sets.\n",
    "    \"\"\"\n",
    "    if train_size and test_size:\n",
    "        cv_size = 1 - train_size - test_size\n",
    "    elif train_size and cv_size:\n",
    "        test_size = 1 - train_size - cv_size\n",
    "    elif test_size and cv_size:\n",
    "        train_size = 1 - test_size - cv_size\n",
    "    else:\n",
    "        raise ValueError('Not enough parameters for function')\n",
    "\n",
    "    all_samples = np.arange(X.shape[1])\n",
    "    N = len(all_samples)\n",
    "    train = np.random.choice(all_samples, int(train_size * N), replace=False)\n",
    "    all_samples = np.setdiff1d(all_samples, train)\n",
    "    test = np.random.choice(all_samples, int(test_size * N), replace=False)\n",
    "    cv = np.setdiff1d(all_samples, test)\n",
    "\n",
    "    X_train, X_test, X_cv = X[:, train].reshape((-1, X.shape[2])), \\\n",
    "                            X[:, test].reshape((-1, X.shape[2])), \\\n",
    "                            X[:, cv].reshape((-1, X.shape[2]))\n",
    "    Y_train, Y_test, Y_cv = Y[:, train].reshape((-1, Y.shape[2])), \\\n",
    "                            Y[:, test].reshape((-1, Y.shape[2])), \\\n",
    "                            Y[:, cv].reshape((-1, Y.shape[2]))\n",
    "    return [X_train, Y_train], [X_test, Y_test], [X_cv, Y_cv]\n",
    "\n",
    "train, test, cv = ThreeFolds(X, Y, train_size=0.6, test_size=0.2)"
   ]
  },
  {
   "cell_type": "markdown",
   "metadata": {},
   "source": [
    "# Helper functions"
   ]
  },
  {
   "cell_type": "code",
   "execution_count": 4,
   "metadata": {
    "collapsed": true
   },
   "outputs": [],
   "source": [
    "##### Activation functions #########################\n",
    "\n",
    "def sigmoid(z, a=1.0):\n",
    "    \"\"\"\n",
    "    :param z: input value\n",
    "    :return:  sigmoid function\n",
    "    \"\"\"\n",
    "    return 1 / (1 + np.exp(-a * z))\n",
    "\n",
    "def d_sigmoid(z, a=1.0):\n",
    "    \"\"\"\n",
    "    :param z: input value\n",
    "    :return:  derivative of sigmoid\n",
    "    \"\"\"\n",
    "    s = sigmoid(z, a)\n",
    "    return a * s * (1 - s)\n",
    "\n",
    "##### Cost functions ###############################\n",
    "\n",
    "def xeuclidian(t, y):\n",
    "    \"\"\"\n",
    "    :param t: true values\n",
    "    :param y: predicted values\n",
    "    :return:  half of squared Euclidian distance\n",
    "    \"\"\"\n",
    "    return np.sum((t - y) ** 2, axis=1) / 2.0\n",
    "\n",
    "def d_xeuclidian(t, y):\n",
    "    \"\"\"\n",
    "    :param t: true values\n",
    "    :param y: predicted values\n",
    "    :return:  derivative of xeuclidian\n",
    "    \"\"\"\n",
    "    return y - t\n",
    "\n",
    "@np.vectorize\n",
    "def loglikelihood_elements(t, y):\n",
    "    return(0 if t == 0 or y == 1 else (t * np.log(y) if y != 0 else t * np.log(np.finfo(float).eps))) + \\\n",
    "          (0 if t == 1 or y == 0 else ((1 - t) * np.log(1 - y) if y != 1 else (1 - t) * np.log(np.finfo(float).eps)))\n",
    "\n",
    "def loglikelihood(t, y):\n",
    "    \"\"\"\n",
    "    :param t: true values\n",
    "    :param y: predicted values\n",
    "    :return:  log of Bernoulli likelihood\n",
    "    \"\"\"\n",
    "    return -np.sum(loglikelihood_elements(t, y), axis=1)\n",
    "    \n",
    "@np.vectorize\n",
    "def d_loglikelihood(t, y):\n",
    "    \"\"\"\n",
    "    :param t: true values\n",
    "    :param y: predicted values\n",
    "    :return:  derivative of loglikelihood\n",
    "    \"\"\"\n",
    "    return -(t / y if y != 0 else t / np.finfo(float).eps) + \\\n",
    "           ((1 - t) / (1 - y) if y != 1 else (1 - t) / np.finfo(float).eps)"
   ]
  },
  {
   "cell_type": "markdown",
   "metadata": {},
   "source": [
    "# Multilayer perceptron with backward propagation"
   ]
  },
  {
   "cell_type": "code",
   "execution_count": 5,
   "metadata": {
    "collapsed": false
   },
   "outputs": [
    {
     "name": "stdout",
     "output_type": "stream",
     "text": [
      "Train error: 4.41995\n",
      "Test error:  5.22004\n"
     ]
    }
   ],
   "source": [
    "class MultilayerPerceptron:\n",
    "    \"\"\"\n",
    "    Multilayer Perceptron (MLP) with backward propagation training algorithm.\n",
    "    \"\"\"\n",
    "    \n",
    "    def __init__(self,\n",
    "                 structure,\n",
    "                 activation_functions=None,\n",
    "                 d_activation_functions=None,\n",
    "                 cost_function=None,\n",
    "                 d_cost_function=None):\n",
    "        \"\"\"\n",
    "        :param structure:              tuple of neurons count in each layer\n",
    "        :param activation_functions:   list of activation functions, sigmoids by default\n",
    "        :param d_activation_functions: list of derivatives of activation functions\n",
    "        :param cost_function:          cost function, xeuclidian by default\n",
    "        :param d_cost_function:        derivative of cost function\n",
    "        \"\"\"\n",
    "        if activation_functions is not None and d_activation_functions is None:\n",
    "            raise ValueError('Derivatives of activation functions not specified')\n",
    "        if activation_functions is None and d_activation_functions is not None:\n",
    "            raise ValueError('Activation functions not specified')\n",
    "        if activation_functions is not None and len(activation_functions) != len(d_activation_functions):\n",
    "            raise ValueError('Different number of activation functions and their derivatives')\n",
    "            \n",
    "        if cost_function is not None and d_cost_function is None:\n",
    "            raise ValueError('Derivative of cost function not specified')\n",
    "        if cost_function is None and d_cost_function is not None:\n",
    "            raise ValueError('Cost function not specified')\n",
    "            \n",
    "        if activation_functions is not None and len(activation_functions) != len(structure):\n",
    "            raise ValueError('Size of activation_functions conflicts with structure')\n",
    "            \n",
    "        self.structure = structure\n",
    "        if activation_functions is not None:\n",
    "            self.activation = activation_functions\n",
    "            self.d_activation = d_activation_functions\n",
    "        else:\n",
    "            self.activation = map(lambda x: lambda z: sigmoid(z), xrange(len(structure)))\n",
    "            self.d_activation = map(lambda x: lambda z: d_sigmoid(z), xrange(len(structure)))\n",
    "        if cost_function is not None:\n",
    "            self.cost = cost_function\n",
    "            self.d_cost = d_cost_function\n",
    "        else:\n",
    "            self.cost = xeuclidian\n",
    "            self.d_cost = d_xeuclidian\n",
    "            \n",
    "    def init_weights(self, input_dim, f_init):\n",
    "        \"\"\"\n",
    "        :param input_dim: dimension of input sample\n",
    "        :param f_init:    function that returns initial weights for layer with size n\n",
    "        :return:          list of weight matrices\n",
    "        \"\"\"\n",
    "        W = []\n",
    "        for i, layer in enumerate(self.structure):\n",
    "            inputs = 1 + (input_dim if i == 0 else self.structure[i - 1])\n",
    "            W.append(f_init(inputs * layer).reshape(inputs, layer))\n",
    "        return W\n",
    "    \n",
    "    def forward_pass(self, X, cache=False):\n",
    "        \"\"\"\n",
    "        :param X:     input samples\n",
    "        :param cache: if True then intermediate results will be cached\n",
    "        :return:      MLP prediction\n",
    "        \"\"\"\n",
    "        cur_X = X\n",
    "        self.z = []\n",
    "        self.f_z = []\n",
    "        for i, matrix in enumerate(self.W):\n",
    "            \n",
    "            # Add bias to input data\n",
    "            tmp = np.c_[np.ones(cur_X.shape[0]), cur_X]\n",
    "\n",
    "            # Compute next layer\n",
    "            cur_z = np.dot(tmp, matrix)\n",
    "            cur_X = self.activation[i](cur_z)\n",
    "            \n",
    "            # Remember intermediate result\n",
    "            if cache:\n",
    "                self.z.append(cur_z)\n",
    "                self.f_z.append(cur_X)\n",
    "            \n",
    "        return cur_X\n",
    "    \n",
    "    def backward_pass(self, X, Y):\n",
    "        \"\"\"\n",
    "        :param X: input data\n",
    "        :param Y: output data\n",
    "        :return:  gradient for weights in each layer\n",
    "        \"\"\"\n",
    "        dE_dw = [None] * len(self.W)\n",
    "        dE_dz_next = None\n",
    "        \n",
    "        # Iterate from last layer to first one\n",
    "        for i in reversed(xrange(len(self.W))):\n",
    "            dE_dz = None\n",
    "            \n",
    "            # Output layer\n",
    "            if dE_dz_next is None:\n",
    "                dE_dz = self.d_cost(Y, self.f_z[i]) * self.d_activation[i](self.z[i])\n",
    "                \n",
    "            # Hidden layer\n",
    "            else:\n",
    "                dE_dz = np.dot(dE_dz_next, self.W[i + 1][1:].T) * self.d_activation[i](self.z[i])\n",
    "                \n",
    "            dE_dz_next = dE_dz\n",
    "            \n",
    "            # Add bias to layer input data\n",
    "            layer_input = X if i == 0 else self.f_z[i - 1]\n",
    "            layer_input = np.c_[np.ones(layer_input.shape[0]), layer_input]\n",
    "\n",
    "            # Compute gradient\n",
    "            dE_dw[i] = np.dot(layer_input.T, dE_dz) / X.shape[0]\n",
    "            \n",
    "        return dE_dw\n",
    "        \n",
    "    def fit(self,\n",
    "            train,\n",
    "            cv=[None, None],\n",
    "            f_init=(lambda n: np.random.normal(0, 0.1, n)),\n",
    "            max_iter=5000,\n",
    "            learning_rate=0.1,\n",
    "            eps=0.05,\n",
    "            verbose=False):\n",
    "        \"\"\"\n",
    "        :param train:         train set (samples and labels)\n",
    "        :param cv:            validation set (samples and labels), optional\n",
    "        :param f_init:        function that returns initial weights for layer with size n\n",
    "        :param max_iter:      maximum number of iterations\n",
    "        :param learning_rate: learning rate in MLP\n",
    "        :return:              object\n",
    "        \"\"\"\n",
    "        X_train, Y_train = train\n",
    "        X_cv, Y_cv = cv\n",
    "        self.train_loss = []\n",
    "        self.cv_loss = []\n",
    "        \n",
    "        # Initialize weight matrices\n",
    "        self.W = self.init_weights(X_train.shape[1], f_init)  \n",
    "        \n",
    "        # Main loop\n",
    "        for n_iter in xrange(max_iter):\n",
    "            \n",
    "            # Forward pass\n",
    "            cur_X = self.forward_pass(X_train, cache=True)\n",
    "            \n",
    "            # Backward pass\n",
    "            dE_dw = self.backward_pass(X_train, Y_train)\n",
    "            \n",
    "            # Update weights\n",
    "            for i in xrange(len(self.W)):\n",
    "                self.W[i] = self.W[i] - learning_rate * dE_dw[i]\n",
    "            \n",
    "            # Compute prediction error on train set\n",
    "            self.train_loss.append(np.sum(self.cost(self.predict(X_train), Y_train)) / X_train.shape[0])\n",
    "            \n",
    "            # Compute prediction error on validation set\n",
    "            if X_cv is not None:\n",
    "                self.cv_loss.append(np.sum(self.cost(self.predict(X_cv), Y_cv)) / X_cv.shape[0])\n",
    "                \n",
    "                # Check for early stop condition\n",
    "                if (1 - eps) * self.cv_loss[-1] > np.min(self.cv_loss):\n",
    "                    break\n",
    "                    \n",
    "            if verbose:\n",
    "                print 'Iter %d:\\ttrain loss = %0.5f' % (n_iter, self.train_loss[-1]),\n",
    "                if X_cv is not None:\n",
    "                    print ', CV loss = %0.5f' % self.cv_loss[-1]\n",
    "                else:\n",
    "                    print\n",
    "            \n",
    "        return self\n",
    "        \n",
    "    def predict(self, X):\n",
    "        \"\"\"\n",
    "        :param X: input samples\n",
    "        :return:  MLP prediction\n",
    "        \"\"\"\n",
    "        return self.forward_pass(X)\n",
    "        \n",
    "mlp = MultilayerPerceptron(structure=(30, 26), cost_function=loglikelihood, d_cost_function=d_loglikelihood)\n",
    "mlp.fit(train, cv)\n",
    "\n",
    "X_test, Y_test = test\n",
    "Y_pred = mlp.predict(X_test)\n",
    "print 'Train error: %0.5f' % mlp.train_loss[-1]\n",
    "print 'Test error:  %0.5f' % (np.sum(loglikelihood(Y_pred, Y_test)) / X_test.shape[0])"
   ]
  },
  {
   "cell_type": "markdown",
   "metadata": {},
   "source": [
    "# Draw plot"
   ]
  },
  {
   "cell_type": "code",
   "execution_count": 6,
   "metadata": {
    "collapsed": false
   },
   "outputs": [
    {
     "data": {
      "image/png": "[encoded data removed]",
      "text/plain": [
       "<matplotlib.figure.Figure at 0x106a08e50>"
      ]
     },
     "metadata": {},
     "output_type": "display_data"
    }
   ],
   "source": [
    "pl.figure(figsize=(8, 8))\n",
    "\n",
    "N = len(mlp.train_loss)\n",
    "t = np.linspace(1, N, N, endpoint=True)\n",
    "\n",
    "train_loss, = pl.plot(t, mlp.train_loss, color='blue')\n",
    "cv_loss, = pl.plot(t, mlp.cv_loss, color='red')\n",
    "pl.title('Error of MLP prediction')\n",
    "pl.legend([train_loss, cv_loss], ['Train', 'CV'])\n",
    "pl.xlabel('Iterations')\n",
    "pl.ylabel('Error')\n",
    "pl.xlim(1, N)\n",
    "\n",
    "pl.show()"
   ]
  },
  {
   "cell_type": "code",
   "execution_count": 7,
   "metadata": {
    "collapsed": false
   },
   "outputs": [
    {
     "name": "stdout",
     "output_type": "stream",
     "text": [
      "100.0% correct labels\n"
     ]
    }
   ],
   "source": [
    "#print 'True\\tPredicted label'\n",
    "count = 0\n",
    "for i, y in enumerate(Y_test):\n",
    "    y_true = np.argmax(y)\n",
    "    y_pred = np.argmax(Y_pred[i])\n",
    "    if y_true == y_pred:\n",
    "        count += 1\n",
    "    #print '%d\\t%d' % (y_true, y_pred)\n",
    "print '%0.1f%% correct labels' % (float(count) / len(Y_test) * 100)"
   ]
  },
  {
   "cell_type": "code",
   "execution_count": null,
   "metadata": {
    "collapsed": true
   },
   "outputs": [],
   "source": []
  }
 ],
 "metadata": {
  "kernelspec": {
   "display_name": "Python 2",
   "language": "python",
   "name": "python2"
  },
  "language_info": {
   "codemirror_mode": {
    "name": "ipython",
    "version": 2
   },
   "file_extension": ".py",
   "mimetype": "text/x-python",
   "name": "python",
   "nbconvert_exporter": "python",
   "pygments_lexer": "ipython2",
   "version": "2.7.10"
  }
 },
 "nbformat": 4,
 "nbformat_minor": 0
}
